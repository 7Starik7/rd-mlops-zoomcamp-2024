{
 "cells": [
  {
   "cell_type": "markdown",
   "source": [
    "# Imports"
   ],
   "metadata": {
    "collapsed": false
   },
   "id": "17787755d0b9bce3"
  },
  {
   "cell_type": "code",
   "outputs": [],
   "source": [
    "!python -V"
   ],
   "metadata": {
    "collapsed": false
   },
   "id": "9edc83c6ee89a52a",
   "execution_count": null
  },
  {
   "cell_type": "code",
   "outputs": [],
   "source": [
    "import pandas as pd\n",
    "import numpy as np\n",
    "\n",
    "import seaborn as sns\n",
    "import matplotlib.pyplot as plt\n",
    "\n",
    "from sklearn.feature_extraction import DictVectorizer\n",
    "from sklearn.linear_model import LinearRegression\n",
    "\n",
    "from sklearn.metrics import mean_squared_error"
   ],
   "metadata": {},
   "id": "0dbe5740",
   "execution_count": null
  },
  {
   "cell_type": "markdown",
   "source": [
    "# Q1. Downloading the data\n",
    "We'll use the same NYC taxi dataset, but instead of \"Green Taxi Trip Records\", we'll use \"Yellow Taxi Trip Records\".\n",
    "\n",
    "Download the data for January and February 2023.\n",
    "\n",
    "Read the data for January. How many columns are there?"
   ],
   "metadata": {
    "collapsed": false
   },
   "id": "72353f9d3906ca28"
  },
  {
   "cell_type": "code",
   "outputs": [],
   "source": [
    "df_yellow_tripdata_jan = pd.read_parquet(\n",
    "    'https://d37ci6vzurychx.cloudfront.net/trip-data/yellow_tripdata_2023-01.parquet')\n",
    "df_yellow_tripdata_feb = pd.read_parquet(\n",
    "    'https://d37ci6vzurychx.cloudfront.net/trip-data/yellow_tripdata_2023-02.parquet')"
   ],
   "metadata": {},
   "id": "d65c84c6",
   "execution_count": null
  },
  {
   "cell_type": "code",
   "outputs": [],
   "source": [
    "df_yellow_tripdata_feb.dtypes"
   ],
   "metadata": {
    "collapsed": false
   },
   "id": "7f55b40219183393",
   "execution_count": null
  },
  {
   "cell_type": "markdown",
   "source": [
    "# Now let's compute the duration variable. It should contain the duration of a ride in minutes.\n",
    "\n",
    "What's the standard deviation of the trips duration in January?"
   ],
   "metadata": {
    "collapsed": false
   },
   "id": "4c48c2af65139781"
  },
  {
   "cell_type": "code",
   "outputs": [],
   "source": [
    "df = df_yellow_tripdata_jan"
   ],
   "metadata": {
    "collapsed": false
   },
   "id": "6a078067dcd416d8",
   "execution_count": null
  },
  {
   "cell_type": "code",
   "outputs": [],
   "source": [
    "df['duration'] = df.tpep_dropoff_datetime - df.tpep_pickup_datetime"
   ],
   "metadata": {
    "collapsed": false
   },
   "id": "9cdd1cebfeb6dd63",
   "execution_count": null
  },
  {
   "cell_type": "code",
   "outputs": [],
   "source": [
    "df.duration = df.duration.apply(lambda x: x.total_seconds() / 60)"
   ],
   "metadata": {
    "collapsed": false
   },
   "id": "675ea00c78ca58c1",
   "execution_count": null
  },
  {
   "cell_type": "code",
   "outputs": [],
   "source": [
    "df.head()"
   ],
   "metadata": {
    "collapsed": false
   },
   "id": "ae53d2a68443b117",
   "execution_count": null
  },
  {
   "cell_type": "code",
   "outputs": [],
   "source": [
    "df.duration.describe()"
   ],
   "metadata": {
    "collapsed": false
   },
   "id": "b32e9489b88fb91a",
   "execution_count": null
  },
  {
   "cell_type": "code",
   "outputs": [],
   "source": [
    "np.std(df['duration'])"
   ],
   "metadata": {
    "collapsed": false
   },
   "id": "1a477d0cd77f0512",
   "execution_count": null
  },
  {
   "cell_type": "markdown",
   "source": [
    "# Q3. Dropping outliers\n",
    "Next, we need to check the distribution of the duration variable. There are some outliers. Let's remove them and keep only the records where the duration was between 1 and 60 minutes (inclusive).\n",
    "\n",
    "What fraction of the records left after you dropped the outliers?"
   ],
   "metadata": {
    "collapsed": false
   },
   "id": "914806c1a68f81e8"
  },
  {
   "cell_type": "code",
   "outputs": [],
   "source": [
    "((df.duration >= 1) & (df.duration <= 60)).mean()"
   ],
   "metadata": {
    "collapsed": false
   },
   "id": "1133062b22a72472",
   "execution_count": null
  },
  {
   "cell_type": "markdown",
   "source": [
    "# Q4. One-hot encoding\n",
    "Let's apply one-hot encoding to the pickup and dropoff location IDs. We'll use only these two features for our model.\n",
    "\n",
    "Turn the dataframe into a list of dictionaries (remember to re-cast the ids to strings - otherwise it will label encode them)\n",
    "Fit a dictionary vectorizer\n",
    "Get a feature matrix from it\n",
    "What's the dimensionality of this matrix (number of columns)?"
   ],
   "metadata": {
    "collapsed": false
   },
   "id": "7f3fb39e2c0bc5b5"
  },
  {
   "cell_type": "code",
   "outputs": [],
   "source": [
    "df = df[(df.duration >= 1) & (df.duration <= 60)]\n",
    "\n",
    "categorical = ['PULocationID', 'DOLocationID']\n",
    "numerical = ['trip_distance']\n",
    "\n",
    "df[categorical] = df[categorical].astype(str)"
   ],
   "metadata": {
    "collapsed": false
   },
   "id": "de98b0eb99e45df6",
   "execution_count": null
  },
  {
   "cell_type": "code",
   "outputs": [],
   "source": [
    "train_dicts = df[categorical + numerical].to_dict(orient='records')"
   ],
   "metadata": {
    "collapsed": false
   },
   "id": "ae7906a4fc7e1449",
   "execution_count": null
  },
  {
   "cell_type": "code",
   "outputs": [],
   "source": [
    "dv = DictVectorizer()\n",
    "X_train = dv.fit_transform(train_dicts)"
   ],
   "metadata": {
    "collapsed": false
   },
   "id": "d9b7d94aa6ca62e3",
   "execution_count": null
  },
  {
   "cell_type": "code",
   "outputs": [],
   "source": [
    "dv.feature_names_"
   ],
   "metadata": {
    "collapsed": false
   },
   "id": "9b7a0f0b8239810a",
   "execution_count": null
  },
  {
   "cell_type": "code",
   "outputs": [],
   "source": [
    "X_train"
   ],
   "metadata": {
    "collapsed": false
   },
   "id": "b99e8acd423acc17",
   "execution_count": null
  },
  {
   "cell_type": "markdown",
   "source": [
    "# Q5. Training a model\n",
    "Now let's use the feature matrix from the previous step to train a model.\n",
    "\n",
    "Train a plain linear regression model with default parameters\n",
    "Calculate the RMSE of the model on the training data\n",
    "What's the RMSE on train?"
   ],
   "metadata": {
    "collapsed": false
   },
   "id": "b0fa5dfc67208d65"
  },
  {
   "cell_type": "code",
   "outputs": [],
   "source": [
    "target = 'duration'\n",
    "y_train = df[target].values"
   ],
   "metadata": {
    "collapsed": false
   },
   "id": "b7d662d1c8d06381",
   "execution_count": null
  },
  {
   "cell_type": "code",
   "outputs": [],
   "source": [
    "y_train"
   ],
   "metadata": {
    "collapsed": false
   },
   "id": "4826911a83c4add6",
   "execution_count": null
  },
  {
   "cell_type": "code",
   "outputs": [],
   "source": [
    "lr = LinearRegression()\n",
    "lr.fit(X_train, y_train)\n",
    "\n",
    "y_pred = lr.predict(X_train)\n",
    "mean_squared_error(y_train, y_pred, squared=False)"
   ],
   "metadata": {
    "collapsed": false
   },
   "id": "89591f936330fdc0",
   "execution_count": null
  },
  {
   "cell_type": "code",
   "outputs": [],
   "source": [
    "sns.distplot(y_pred, label='prediction')\n",
    "sns.distplot(y_train, label='actual')\n",
    "\n",
    "plt.legend()"
   ],
   "metadata": {
    "collapsed": false
   },
   "id": "ac8de44758391b20",
   "execution_count": null
  },
  {
   "cell_type": "markdown",
   "source": [
    "# Q6. Evaluating the model\n",
    "Now let's apply this model to the validation dataset (February 2023).\n",
    "\n",
    "What's the RMSE on validation?"
   ],
   "metadata": {
    "collapsed": false
   },
   "id": "bf94c80580041b78"
  },
  {
   "cell_type": "code",
   "outputs": [],
   "source": [
    "df = df_yellow_tripdata_feb\n",
    "\n",
    "df['duration'] = df.tpep_dropoff_datetime - df.tpep_pickup_datetime\n",
    "df.duration = df.duration.apply(lambda x: x.total_seconds() / 60)\n",
    "df = df[(df.duration >= 1) & (df.duration <= 60)]\n",
    "    \n",
    "categorical = ['PULocationID', 'DOLocationID']\n",
    "df[categorical] = df[categorical].astype(str)\n",
    "    \n",
    "train_dicts = df[categorical + numerical].to_dict(orient='records')\n",
    "dv = DictVectorizer()\n",
    "X_train = dv.fit_transform(train_dicts)\n",
    "target = 'duration'\n",
    "y_train = df[target].values\n",
    "    \n",
    "lr = LinearRegression()\n",
    "lr.fit(X_train, y_train)\n",
    "y_pred = lr.predict(X_train)\n",
    "mean_squared_error(y_train, y_pred, squared=False)"
   ],
   "metadata": {
    "collapsed": false
   },
   "id": "4721defe5ddd9aaa",
   "execution_count": null
  },
  {
   "cell_type": "code",
   "outputs": [],
   "source": [
    "sns.distplot(y_pred, label='prediction')\n",
    "sns.distplot(y_train, label='actual')\n",
    "plt.legend()"
   ],
   "metadata": {
    "collapsed": false
   },
   "id": "2bc6e781dffaf9bf",
   "execution_count": null
  }
 ],
 "metadata": {
  "kernelspec": {
   "display_name": "Python 3 (ipykernel)",
   "language": "python",
   "name": "python3"
  },
  "language_info": {
   "codemirror_mode": {
    "name": "ipython",
    "version": 3
   },
   "file_extension": ".py",
   "mimetype": "text/x-python",
   "name": "python",
   "nbconvert_exporter": "python",
   "pygments_lexer": "ipython3",
   "version": "3.9.12"
  }
 },
 "nbformat": 4,
 "nbformat_minor": 5
}
