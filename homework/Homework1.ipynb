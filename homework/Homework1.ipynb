{
 "cells": [
  {
   "cell_type": "markdown",
   "source": [
    "# Imports"
   ],
   "metadata": {
    "collapsed": false
   },
   "id": "17787755d0b9bce3"
  },
  {
   "cell_type": "code",
   "outputs": [
    {
     "name": "stdout",
     "output_type": "stream",
     "text": [
      "Python 3.11.7\r\n"
     ]
    }
   ],
   "source": [
    "!python -V"
   ],
   "metadata": {
    "collapsed": false,
    "ExecuteTime": {
     "end_time": "2024-05-22T05:22:09.971717Z",
     "start_time": "2024-05-22T05:22:09.839980Z"
    }
   },
   "id": "9edc83c6ee89a52a",
   "execution_count": 17
  },
  {
   "cell_type": "code",
   "outputs": [],
   "source": [
    "import pandas as pd\n",
    "import numpy as np\n",
    "\n",
    "import seaborn as sns\n",
    "import matplotlib.pyplot as plt\n",
    "\n",
    "from sklearn.feature_extraction import DictVectorizer\n",
    "from sklearn.linear_model import LinearRegression\n",
    "\n",
    "from sklearn.metrics import mean_squared_error"
   ],
   "metadata": {
    "ExecuteTime": {
     "end_time": "2024-05-22T05:22:10.640063Z",
     "start_time": "2024-05-22T05:22:10.633825Z"
    }
   },
   "id": "0dbe5740",
   "execution_count": 18
  },
  {
   "cell_type": "markdown",
   "source": [
    "# Q1. Downloading the data\n",
    "We'll use the same NYC taxi dataset, but instead of \"Green Taxi Trip Records\", we'll use \"Yellow Taxi Trip Records\".\n",
    "\n",
    "Download the data for January and February 2023.\n",
    "\n",
    "Read the data for January. How many columns are there?"
   ],
   "metadata": {
    "collapsed": false
   },
   "id": "72353f9d3906ca28"
  },
  {
   "cell_type": "code",
   "outputs": [],
   "source": [
    "df_yellow_tripdata_jan = pd.read_parquet(\n",
    "    'https://d37ci6vzurychx.cloudfront.net/trip-data/yellow_tripdata_2023-01.parquet')\n",
    "df_yellow_tripdata_feb = pd.read_parquet(\n",
    "    'https://d37ci6vzurychx.cloudfront.net/trip-data/yellow_tripdata_2023-02.parquet')"
   ],
   "metadata": {
    "ExecuteTime": {
     "end_time": "2024-05-22T05:22:15.878024Z",
     "start_time": "2024-05-22T05:22:12.632559Z"
    }
   },
   "id": "d65c84c6",
   "execution_count": 19
  },
  {
   "cell_type": "code",
   "outputs": [
    {
     "data": {
      "text/plain": "VendorID                          int32\ntpep_pickup_datetime     datetime64[us]\ntpep_dropoff_datetime    datetime64[us]\npassenger_count                 float64\ntrip_distance                   float64\nRatecodeID                      float64\nstore_and_fwd_flag               object\nPULocationID                      int32\nDOLocationID                      int32\npayment_type                      int64\nfare_amount                     float64\nextra                           float64\nmta_tax                         float64\ntip_amount                      float64\ntolls_amount                    float64\nimprovement_surcharge           float64\ntotal_amount                    float64\ncongestion_surcharge            float64\nAirport_fee                     float64\ndtype: object"
     },
     "execution_count": 20,
     "metadata": {},
     "output_type": "execute_result"
    }
   ],
   "source": [
    "df_yellow_tripdata_feb.dtypes"
   ],
   "metadata": {
    "collapsed": false,
    "ExecuteTime": {
     "end_time": "2024-05-22T05:22:17.365117Z",
     "start_time": "2024-05-22T05:22:17.336276Z"
    }
   },
   "id": "7f55b40219183393",
   "execution_count": 20
  },
  {
   "cell_type": "markdown",
   "source": [
    "# Now let's compute the duration variable. It should contain the duration of a ride in minutes.\n",
    "\n",
    "What's the standard deviation of the trips duration in January?"
   ],
   "metadata": {
    "collapsed": false
   },
   "id": "4c48c2af65139781"
  },
  {
   "cell_type": "code",
   "outputs": [],
   "source": [
    "df = df_yellow_tripdata_jan"
   ],
   "metadata": {
    "collapsed": false,
    "ExecuteTime": {
     "end_time": "2024-05-22T05:22:34.870825Z",
     "start_time": "2024-05-22T05:22:34.866847Z"
    }
   },
   "id": "6a078067dcd416d8",
   "execution_count": 21
  },
  {
   "cell_type": "code",
   "outputs": [],
   "source": [
    "df['duration'] = df.tpep_dropoff_datetime - df.tpep_pickup_datetime"
   ],
   "metadata": {
    "collapsed": false,
    "ExecuteTime": {
     "end_time": "2024-05-22T05:22:37.670162Z",
     "start_time": "2024-05-22T05:22:37.624889Z"
    }
   },
   "id": "9cdd1cebfeb6dd63",
   "execution_count": 22
  },
  {
   "cell_type": "code",
   "outputs": [],
   "source": [
    "df.duration = df.duration.apply(lambda x: x.total_seconds() / 60)"
   ],
   "metadata": {
    "collapsed": false,
    "ExecuteTime": {
     "end_time": "2024-05-22T05:22:43.390365Z",
     "start_time": "2024-05-22T05:22:39.691769Z"
    }
   },
   "id": "675ea00c78ca58c1",
   "execution_count": 23
  },
  {
   "cell_type": "code",
   "outputs": [
    {
     "data": {
      "text/plain": "   VendorID tpep_pickup_datetime tpep_dropoff_datetime  passenger_count  \\\n0         2  2023-01-01 00:32:10   2023-01-01 00:40:36              1.0   \n1         2  2023-01-01 00:55:08   2023-01-01 01:01:27              1.0   \n2         2  2023-01-01 00:25:04   2023-01-01 00:37:49              1.0   \n3         1  2023-01-01 00:03:48   2023-01-01 00:13:25              0.0   \n4         2  2023-01-01 00:10:29   2023-01-01 00:21:19              1.0   \n\n   trip_distance  RatecodeID store_and_fwd_flag  PULocationID  DOLocationID  \\\n0           0.97         1.0                  N           161           141   \n1           1.10         1.0                  N            43           237   \n2           2.51         1.0                  N            48           238   \n3           1.90         1.0                  N           138             7   \n4           1.43         1.0                  N           107            79   \n\n   payment_type  fare_amount  extra  mta_tax  tip_amount  tolls_amount  \\\n0             2          9.3   1.00      0.5        0.00           0.0   \n1             1          7.9   1.00      0.5        4.00           0.0   \n2             1         14.9   1.00      0.5       15.00           0.0   \n3             1         12.1   7.25      0.5        0.00           0.0   \n4             1         11.4   1.00      0.5        3.28           0.0   \n\n   improvement_surcharge  total_amount  congestion_surcharge  airport_fee  \\\n0                    1.0         14.30                   2.5         0.00   \n1                    1.0         16.90                   2.5         0.00   \n2                    1.0         34.90                   2.5         0.00   \n3                    1.0         20.85                   0.0         1.25   \n4                    1.0         19.68                   2.5         0.00   \n\n    duration  \n0   8.433333  \n1   6.316667  \n2  12.750000  \n3   9.616667  \n4  10.833333  ",
      "text/html": "<div>\n<style scoped>\n    .dataframe tbody tr th:only-of-type {\n        vertical-align: middle;\n    }\n\n    .dataframe tbody tr th {\n        vertical-align: top;\n    }\n\n    .dataframe thead th {\n        text-align: right;\n    }\n</style>\n<table border=\"1\" class=\"dataframe\">\n  <thead>\n    <tr style=\"text-align: right;\">\n      <th></th>\n      <th>VendorID</th>\n      <th>tpep_pickup_datetime</th>\n      <th>tpep_dropoff_datetime</th>\n      <th>passenger_count</th>\n      <th>trip_distance</th>\n      <th>RatecodeID</th>\n      <th>store_and_fwd_flag</th>\n      <th>PULocationID</th>\n      <th>DOLocationID</th>\n      <th>payment_type</th>\n      <th>fare_amount</th>\n      <th>extra</th>\n      <th>mta_tax</th>\n      <th>tip_amount</th>\n      <th>tolls_amount</th>\n      <th>improvement_surcharge</th>\n      <th>total_amount</th>\n      <th>congestion_surcharge</th>\n      <th>airport_fee</th>\n      <th>duration</th>\n    </tr>\n  </thead>\n  <tbody>\n    <tr>\n      <th>0</th>\n      <td>2</td>\n      <td>2023-01-01 00:32:10</td>\n      <td>2023-01-01 00:40:36</td>\n      <td>1.0</td>\n      <td>0.97</td>\n      <td>1.0</td>\n      <td>N</td>\n      <td>161</td>\n      <td>141</td>\n      <td>2</td>\n      <td>9.3</td>\n      <td>1.00</td>\n      <td>0.5</td>\n      <td>0.00</td>\n      <td>0.0</td>\n      <td>1.0</td>\n      <td>14.30</td>\n      <td>2.5</td>\n      <td>0.00</td>\n      <td>8.433333</td>\n    </tr>\n    <tr>\n      <th>1</th>\n      <td>2</td>\n      <td>2023-01-01 00:55:08</td>\n      <td>2023-01-01 01:01:27</td>\n      <td>1.0</td>\n      <td>1.10</td>\n      <td>1.0</td>\n      <td>N</td>\n      <td>43</td>\n      <td>237</td>\n      <td>1</td>\n      <td>7.9</td>\n      <td>1.00</td>\n      <td>0.5</td>\n      <td>4.00</td>\n      <td>0.0</td>\n      <td>1.0</td>\n      <td>16.90</td>\n      <td>2.5</td>\n      <td>0.00</td>\n      <td>6.316667</td>\n    </tr>\n    <tr>\n      <th>2</th>\n      <td>2</td>\n      <td>2023-01-01 00:25:04</td>\n      <td>2023-01-01 00:37:49</td>\n      <td>1.0</td>\n      <td>2.51</td>\n      <td>1.0</td>\n      <td>N</td>\n      <td>48</td>\n      <td>238</td>\n      <td>1</td>\n      <td>14.9</td>\n      <td>1.00</td>\n      <td>0.5</td>\n      <td>15.00</td>\n      <td>0.0</td>\n      <td>1.0</td>\n      <td>34.90</td>\n      <td>2.5</td>\n      <td>0.00</td>\n      <td>12.750000</td>\n    </tr>\n    <tr>\n      <th>3</th>\n      <td>1</td>\n      <td>2023-01-01 00:03:48</td>\n      <td>2023-01-01 00:13:25</td>\n      <td>0.0</td>\n      <td>1.90</td>\n      <td>1.0</td>\n      <td>N</td>\n      <td>138</td>\n      <td>7</td>\n      <td>1</td>\n      <td>12.1</td>\n      <td>7.25</td>\n      <td>0.5</td>\n      <td>0.00</td>\n      <td>0.0</td>\n      <td>1.0</td>\n      <td>20.85</td>\n      <td>0.0</td>\n      <td>1.25</td>\n      <td>9.616667</td>\n    </tr>\n    <tr>\n      <th>4</th>\n      <td>2</td>\n      <td>2023-01-01 00:10:29</td>\n      <td>2023-01-01 00:21:19</td>\n      <td>1.0</td>\n      <td>1.43</td>\n      <td>1.0</td>\n      <td>N</td>\n      <td>107</td>\n      <td>79</td>\n      <td>1</td>\n      <td>11.4</td>\n      <td>1.00</td>\n      <td>0.5</td>\n      <td>3.28</td>\n      <td>0.0</td>\n      <td>1.0</td>\n      <td>19.68</td>\n      <td>2.5</td>\n      <td>0.00</td>\n      <td>10.833333</td>\n    </tr>\n  </tbody>\n</table>\n</div>"
     },
     "execution_count": 26,
     "metadata": {},
     "output_type": "execute_result"
    }
   ],
   "source": [
    "df.head()"
   ],
   "metadata": {
    "collapsed": false,
    "ExecuteTime": {
     "end_time": "2024-05-22T05:23:18.274745Z",
     "start_time": "2024-05-22T05:23:18.261415Z"
    }
   },
   "id": "ae53d2a68443b117",
   "execution_count": 26
  },
  {
   "cell_type": "code",
   "outputs": [
    {
     "data": {
      "text/plain": "count    3.066766e+06\nmean     1.566900e+01\nstd      4.259435e+01\nmin     -2.920000e+01\n25%      7.116667e+00\n50%      1.151667e+01\n75%      1.830000e+01\nmax      1.002918e+04\nName: duration, dtype: float64"
     },
     "execution_count": 27,
     "metadata": {},
     "output_type": "execute_result"
    }
   ],
   "source": [
    "df.duration.describe()"
   ],
   "metadata": {
    "collapsed": false,
    "ExecuteTime": {
     "end_time": "2024-05-22T05:23:19.757364Z",
     "start_time": "2024-05-22T05:23:19.653268Z"
    }
   },
   "id": "b32e9489b88fb91a",
   "execution_count": 27
  },
  {
   "cell_type": "code",
   "outputs": [
    {
     "data": {
      "text/plain": "42.59434429744777"
     },
     "execution_count": 28,
     "metadata": {},
     "output_type": "execute_result"
    }
   ],
   "source": [
    "np.std(df['duration'])"
   ],
   "metadata": {
    "collapsed": false,
    "ExecuteTime": {
     "end_time": "2024-05-22T05:23:25.444200Z",
     "start_time": "2024-05-22T05:23:25.414587Z"
    }
   },
   "id": "1a477d0cd77f0512",
   "execution_count": 28
  },
  {
   "cell_type": "markdown",
   "source": [
    "# Q3. Dropping outliers\n",
    "Next, we need to check the distribution of the duration variable. There are some outliers. Let's remove them and keep only the records where the duration was between 1 and 60 minutes (inclusive).\n",
    "\n",
    "What fraction of the records left after you dropped the outliers?"
   ],
   "metadata": {
    "collapsed": false
   },
   "id": "914806c1a68f81e8"
  },
  {
   "cell_type": "code",
   "outputs": [
    {
     "data": {
      "text/plain": "0.9812202822125979"
     },
     "execution_count": 29,
     "metadata": {},
     "output_type": "execute_result"
    }
   ],
   "source": [
    "((df.duration >= 1) & (df.duration <= 60)).mean()"
   ],
   "metadata": {
    "collapsed": false,
    "ExecuteTime": {
     "end_time": "2024-05-22T05:23:37.839441Z",
     "start_time": "2024-05-22T05:23:37.811094Z"
    }
   },
   "id": "1133062b22a72472",
   "execution_count": 29
  },
  {
   "cell_type": "markdown",
   "source": [
    "# Q4. One-hot encoding\n",
    "Let's apply one-hot encoding to the pickup and dropoff location IDs. We'll use only these two features for our model.\n",
    "\n",
    "Turn the dataframe into a list of dictionaries (remember to re-cast the ids to strings - otherwise it will label encode them)\n",
    "Fit a dictionary vectorizer\n",
    "Get a feature matrix from it\n",
    "What's the dimensionality of this matrix (number of columns)?"
   ],
   "metadata": {
    "collapsed": false
   },
   "id": "7f3fb39e2c0bc5b5"
  },
  {
   "cell_type": "code",
   "outputs": [
    {
     "name": "stderr",
     "output_type": "stream",
     "text": [
      "/var/folders/cc/82yp0sf9235_s74_gp4brsy00000gn/T/ipykernel_20200/2682519644.py:6: SettingWithCopyWarning: \n",
      "A value is trying to be set on a copy of a slice from a DataFrame.\n",
      "Try using .loc[row_indexer,col_indexer] = value instead\n",
      "\n",
      "See the caveats in the documentation: https://pandas.pydata.org/pandas-docs/stable/user_guide/indexing.html#returning-a-view-versus-a-copy\n",
      "  df[categorical] = df[categorical].astype(str)\n"
     ]
    }
   ],
   "source": [
    "df = df[(df.duration >= 1) & (df.duration <= 60)]\n",
    "\n",
    "categorical = ['PULocationID', 'DOLocationID']\n",
    "numerical = ['trip_distance']\n",
    "\n",
    "df[categorical] = df[categorical].astype(str)"
   ],
   "metadata": {
    "collapsed": false,
    "ExecuteTime": {
     "end_time": "2024-05-22T05:23:42.726796Z",
     "start_time": "2024-05-22T05:23:41.947114Z"
    }
   },
   "id": "de98b0eb99e45df6",
   "execution_count": 30
  },
  {
   "cell_type": "code",
   "outputs": [],
   "source": [
    "train_dicts = df[categorical + numerical].to_dict(orient='records')"
   ],
   "metadata": {
    "collapsed": false,
    "ExecuteTime": {
     "end_time": "2024-05-22T05:24:01.083088Z",
     "start_time": "2024-05-22T05:23:58.647595Z"
    }
   },
   "id": "ae7906a4fc7e1449",
   "execution_count": 31
  },
  {
   "cell_type": "code",
   "outputs": [],
   "source": [
    "dv = DictVectorizer()\n",
    "X_train = dv.fit_transform(train_dicts)"
   ],
   "metadata": {
    "collapsed": false,
    "ExecuteTime": {
     "end_time": "2024-05-22T05:24:05.529109Z",
     "start_time": "2024-05-22T05:24:02.428732Z"
    }
   },
   "id": "d9b7d94aa6ca62e3",
   "execution_count": 32
  },
  {
   "cell_type": "code",
   "outputs": [
    {
     "data": {
      "text/plain": "['DOLocationID=1',\n 'DOLocationID=10',\n 'DOLocationID=100',\n 'DOLocationID=101',\n 'DOLocationID=102',\n 'DOLocationID=106',\n 'DOLocationID=107',\n 'DOLocationID=108',\n 'DOLocationID=109',\n 'DOLocationID=11',\n 'DOLocationID=111',\n 'DOLocationID=112',\n 'DOLocationID=113',\n 'DOLocationID=114',\n 'DOLocationID=115',\n 'DOLocationID=116',\n 'DOLocationID=117',\n 'DOLocationID=118',\n 'DOLocationID=119',\n 'DOLocationID=12',\n 'DOLocationID=120',\n 'DOLocationID=121',\n 'DOLocationID=122',\n 'DOLocationID=123',\n 'DOLocationID=124',\n 'DOLocationID=125',\n 'DOLocationID=126',\n 'DOLocationID=127',\n 'DOLocationID=128',\n 'DOLocationID=129',\n 'DOLocationID=13',\n 'DOLocationID=130',\n 'DOLocationID=131',\n 'DOLocationID=132',\n 'DOLocationID=133',\n 'DOLocationID=134',\n 'DOLocationID=135',\n 'DOLocationID=136',\n 'DOLocationID=137',\n 'DOLocationID=138',\n 'DOLocationID=139',\n 'DOLocationID=14',\n 'DOLocationID=140',\n 'DOLocationID=141',\n 'DOLocationID=142',\n 'DOLocationID=143',\n 'DOLocationID=144',\n 'DOLocationID=145',\n 'DOLocationID=146',\n 'DOLocationID=147',\n 'DOLocationID=148',\n 'DOLocationID=149',\n 'DOLocationID=15',\n 'DOLocationID=150',\n 'DOLocationID=151',\n 'DOLocationID=152',\n 'DOLocationID=153',\n 'DOLocationID=154',\n 'DOLocationID=155',\n 'DOLocationID=156',\n 'DOLocationID=157',\n 'DOLocationID=158',\n 'DOLocationID=159',\n 'DOLocationID=16',\n 'DOLocationID=160',\n 'DOLocationID=161',\n 'DOLocationID=162',\n 'DOLocationID=163',\n 'DOLocationID=164',\n 'DOLocationID=165',\n 'DOLocationID=166',\n 'DOLocationID=167',\n 'DOLocationID=168',\n 'DOLocationID=169',\n 'DOLocationID=17',\n 'DOLocationID=170',\n 'DOLocationID=171',\n 'DOLocationID=172',\n 'DOLocationID=173',\n 'DOLocationID=174',\n 'DOLocationID=175',\n 'DOLocationID=176',\n 'DOLocationID=177',\n 'DOLocationID=178',\n 'DOLocationID=179',\n 'DOLocationID=18',\n 'DOLocationID=180',\n 'DOLocationID=181',\n 'DOLocationID=182',\n 'DOLocationID=183',\n 'DOLocationID=184',\n 'DOLocationID=185',\n 'DOLocationID=186',\n 'DOLocationID=187',\n 'DOLocationID=188',\n 'DOLocationID=189',\n 'DOLocationID=19',\n 'DOLocationID=190',\n 'DOLocationID=191',\n 'DOLocationID=192',\n 'DOLocationID=193',\n 'DOLocationID=194',\n 'DOLocationID=195',\n 'DOLocationID=196',\n 'DOLocationID=197',\n 'DOLocationID=198',\n 'DOLocationID=2',\n 'DOLocationID=20',\n 'DOLocationID=200',\n 'DOLocationID=201',\n 'DOLocationID=202',\n 'DOLocationID=203',\n 'DOLocationID=204',\n 'DOLocationID=205',\n 'DOLocationID=206',\n 'DOLocationID=207',\n 'DOLocationID=208',\n 'DOLocationID=209',\n 'DOLocationID=21',\n 'DOLocationID=210',\n 'DOLocationID=211',\n 'DOLocationID=212',\n 'DOLocationID=213',\n 'DOLocationID=214',\n 'DOLocationID=215',\n 'DOLocationID=216',\n 'DOLocationID=217',\n 'DOLocationID=218',\n 'DOLocationID=219',\n 'DOLocationID=22',\n 'DOLocationID=220',\n 'DOLocationID=221',\n 'DOLocationID=222',\n 'DOLocationID=223',\n 'DOLocationID=224',\n 'DOLocationID=225',\n 'DOLocationID=226',\n 'DOLocationID=227',\n 'DOLocationID=228',\n 'DOLocationID=229',\n 'DOLocationID=23',\n 'DOLocationID=230',\n 'DOLocationID=231',\n 'DOLocationID=232',\n 'DOLocationID=233',\n 'DOLocationID=234',\n 'DOLocationID=235',\n 'DOLocationID=236',\n 'DOLocationID=237',\n 'DOLocationID=238',\n 'DOLocationID=239',\n 'DOLocationID=24',\n 'DOLocationID=240',\n 'DOLocationID=241',\n 'DOLocationID=242',\n 'DOLocationID=243',\n 'DOLocationID=244',\n 'DOLocationID=245',\n 'DOLocationID=246',\n 'DOLocationID=247',\n 'DOLocationID=248',\n 'DOLocationID=249',\n 'DOLocationID=25',\n 'DOLocationID=250',\n 'DOLocationID=251',\n 'DOLocationID=252',\n 'DOLocationID=253',\n 'DOLocationID=254',\n 'DOLocationID=255',\n 'DOLocationID=256',\n 'DOLocationID=257',\n 'DOLocationID=258',\n 'DOLocationID=259',\n 'DOLocationID=26',\n 'DOLocationID=260',\n 'DOLocationID=261',\n 'DOLocationID=262',\n 'DOLocationID=263',\n 'DOLocationID=264',\n 'DOLocationID=265',\n 'DOLocationID=27',\n 'DOLocationID=28',\n 'DOLocationID=29',\n 'DOLocationID=3',\n 'DOLocationID=30',\n 'DOLocationID=31',\n 'DOLocationID=32',\n 'DOLocationID=33',\n 'DOLocationID=34',\n 'DOLocationID=35',\n 'DOLocationID=36',\n 'DOLocationID=37',\n 'DOLocationID=38',\n 'DOLocationID=39',\n 'DOLocationID=4',\n 'DOLocationID=40',\n 'DOLocationID=41',\n 'DOLocationID=42',\n 'DOLocationID=43',\n 'DOLocationID=44',\n 'DOLocationID=45',\n 'DOLocationID=46',\n 'DOLocationID=47',\n 'DOLocationID=48',\n 'DOLocationID=49',\n 'DOLocationID=5',\n 'DOLocationID=50',\n 'DOLocationID=51',\n 'DOLocationID=52',\n 'DOLocationID=53',\n 'DOLocationID=54',\n 'DOLocationID=55',\n 'DOLocationID=56',\n 'DOLocationID=57',\n 'DOLocationID=58',\n 'DOLocationID=59',\n 'DOLocationID=6',\n 'DOLocationID=60',\n 'DOLocationID=61',\n 'DOLocationID=62',\n 'DOLocationID=63',\n 'DOLocationID=64',\n 'DOLocationID=65',\n 'DOLocationID=66',\n 'DOLocationID=67',\n 'DOLocationID=68',\n 'DOLocationID=69',\n 'DOLocationID=7',\n 'DOLocationID=70',\n 'DOLocationID=71',\n 'DOLocationID=72',\n 'DOLocationID=73',\n 'DOLocationID=74',\n 'DOLocationID=75',\n 'DOLocationID=76',\n 'DOLocationID=77',\n 'DOLocationID=78',\n 'DOLocationID=79',\n 'DOLocationID=8',\n 'DOLocationID=80',\n 'DOLocationID=81',\n 'DOLocationID=82',\n 'DOLocationID=83',\n 'DOLocationID=84',\n 'DOLocationID=85',\n 'DOLocationID=86',\n 'DOLocationID=87',\n 'DOLocationID=88',\n 'DOLocationID=89',\n 'DOLocationID=9',\n 'DOLocationID=90',\n 'DOLocationID=91',\n 'DOLocationID=92',\n 'DOLocationID=93',\n 'DOLocationID=94',\n 'DOLocationID=95',\n 'DOLocationID=96',\n 'DOLocationID=97',\n 'DOLocationID=98',\n 'DOLocationID=99',\n 'PULocationID=1',\n 'PULocationID=10',\n 'PULocationID=100',\n 'PULocationID=101',\n 'PULocationID=102',\n 'PULocationID=106',\n 'PULocationID=107',\n 'PULocationID=108',\n 'PULocationID=109',\n 'PULocationID=11',\n 'PULocationID=111',\n 'PULocationID=112',\n 'PULocationID=113',\n 'PULocationID=114',\n 'PULocationID=115',\n 'PULocationID=116',\n 'PULocationID=117',\n 'PULocationID=118',\n 'PULocationID=119',\n 'PULocationID=12',\n 'PULocationID=120',\n 'PULocationID=121',\n 'PULocationID=122',\n 'PULocationID=123',\n 'PULocationID=124',\n 'PULocationID=125',\n 'PULocationID=126',\n 'PULocationID=127',\n 'PULocationID=128',\n 'PULocationID=129',\n 'PULocationID=13',\n 'PULocationID=130',\n 'PULocationID=131',\n 'PULocationID=132',\n 'PULocationID=133',\n 'PULocationID=134',\n 'PULocationID=135',\n 'PULocationID=136',\n 'PULocationID=137',\n 'PULocationID=138',\n 'PULocationID=139',\n 'PULocationID=14',\n 'PULocationID=140',\n 'PULocationID=141',\n 'PULocationID=142',\n 'PULocationID=143',\n 'PULocationID=144',\n 'PULocationID=145',\n 'PULocationID=146',\n 'PULocationID=147',\n 'PULocationID=148',\n 'PULocationID=149',\n 'PULocationID=15',\n 'PULocationID=150',\n 'PULocationID=151',\n 'PULocationID=152',\n 'PULocationID=153',\n 'PULocationID=154',\n 'PULocationID=155',\n 'PULocationID=156',\n 'PULocationID=157',\n 'PULocationID=158',\n 'PULocationID=159',\n 'PULocationID=16',\n 'PULocationID=160',\n 'PULocationID=161',\n 'PULocationID=162',\n 'PULocationID=163',\n 'PULocationID=164',\n 'PULocationID=165',\n 'PULocationID=166',\n 'PULocationID=167',\n 'PULocationID=168',\n 'PULocationID=169',\n 'PULocationID=17',\n 'PULocationID=170',\n 'PULocationID=171',\n 'PULocationID=172',\n 'PULocationID=173',\n 'PULocationID=174',\n 'PULocationID=175',\n 'PULocationID=177',\n 'PULocationID=178',\n 'PULocationID=179',\n 'PULocationID=18',\n 'PULocationID=180',\n 'PULocationID=181',\n 'PULocationID=182',\n 'PULocationID=183',\n 'PULocationID=184',\n 'PULocationID=185',\n 'PULocationID=186',\n 'PULocationID=187',\n 'PULocationID=188',\n 'PULocationID=189',\n 'PULocationID=19',\n 'PULocationID=190',\n 'PULocationID=191',\n 'PULocationID=192',\n 'PULocationID=193',\n 'PULocationID=194',\n 'PULocationID=195',\n 'PULocationID=196',\n 'PULocationID=197',\n 'PULocationID=198',\n 'PULocationID=199',\n 'PULocationID=2',\n 'PULocationID=20',\n 'PULocationID=200',\n 'PULocationID=201',\n 'PULocationID=202',\n 'PULocationID=203',\n 'PULocationID=205',\n 'PULocationID=206',\n 'PULocationID=207',\n 'PULocationID=208',\n 'PULocationID=209',\n 'PULocationID=21',\n 'PULocationID=210',\n 'PULocationID=211',\n 'PULocationID=212',\n 'PULocationID=213',\n 'PULocationID=214',\n 'PULocationID=215',\n 'PULocationID=216',\n 'PULocationID=217',\n 'PULocationID=218',\n 'PULocationID=219',\n 'PULocationID=22',\n 'PULocationID=220',\n 'PULocationID=221',\n 'PULocationID=222',\n 'PULocationID=223',\n 'PULocationID=224',\n 'PULocationID=225',\n 'PULocationID=226',\n 'PULocationID=227',\n 'PULocationID=228',\n 'PULocationID=229',\n 'PULocationID=23',\n 'PULocationID=230',\n 'PULocationID=231',\n 'PULocationID=232',\n 'PULocationID=233',\n 'PULocationID=234',\n 'PULocationID=235',\n 'PULocationID=236',\n 'PULocationID=237',\n 'PULocationID=238',\n 'PULocationID=239',\n 'PULocationID=24',\n 'PULocationID=240',\n 'PULocationID=241',\n 'PULocationID=242',\n 'PULocationID=243',\n 'PULocationID=244',\n 'PULocationID=245',\n 'PULocationID=246',\n 'PULocationID=247',\n 'PULocationID=248',\n 'PULocationID=249',\n 'PULocationID=25',\n 'PULocationID=250',\n 'PULocationID=251',\n 'PULocationID=252',\n 'PULocationID=253',\n 'PULocationID=254',\n 'PULocationID=255',\n 'PULocationID=256',\n 'PULocationID=257',\n 'PULocationID=258',\n 'PULocationID=259',\n 'PULocationID=26',\n 'PULocationID=260',\n 'PULocationID=261',\n 'PULocationID=262',\n 'PULocationID=263',\n 'PULocationID=264',\n 'PULocationID=265',\n 'PULocationID=28',\n 'PULocationID=29',\n 'PULocationID=3',\n 'PULocationID=30',\n 'PULocationID=31',\n 'PULocationID=32',\n 'PULocationID=33',\n 'PULocationID=34',\n 'PULocationID=35',\n 'PULocationID=36',\n 'PULocationID=37',\n 'PULocationID=38',\n 'PULocationID=39',\n 'PULocationID=4',\n 'PULocationID=40',\n 'PULocationID=41',\n 'PULocationID=42',\n 'PULocationID=43',\n 'PULocationID=44',\n 'PULocationID=45',\n 'PULocationID=46',\n 'PULocationID=47',\n 'PULocationID=48',\n 'PULocationID=49',\n 'PULocationID=5',\n 'PULocationID=50',\n 'PULocationID=51',\n 'PULocationID=52',\n 'PULocationID=53',\n 'PULocationID=54',\n 'PULocationID=55',\n 'PULocationID=56',\n 'PULocationID=57',\n 'PULocationID=58',\n 'PULocationID=6',\n 'PULocationID=60',\n 'PULocationID=61',\n 'PULocationID=62',\n 'PULocationID=63',\n 'PULocationID=64',\n 'PULocationID=65',\n 'PULocationID=66',\n 'PULocationID=67',\n 'PULocationID=68',\n 'PULocationID=69',\n 'PULocationID=7',\n 'PULocationID=70',\n 'PULocationID=71',\n 'PULocationID=72',\n 'PULocationID=73',\n 'PULocationID=74',\n 'PULocationID=75',\n 'PULocationID=76',\n 'PULocationID=77',\n 'PULocationID=78',\n 'PULocationID=79',\n 'PULocationID=8',\n 'PULocationID=80',\n 'PULocationID=81',\n 'PULocationID=82',\n 'PULocationID=83',\n 'PULocationID=85',\n 'PULocationID=86',\n 'PULocationID=87',\n 'PULocationID=88',\n 'PULocationID=89',\n 'PULocationID=9',\n 'PULocationID=90',\n 'PULocationID=91',\n 'PULocationID=92',\n 'PULocationID=93',\n 'PULocationID=94',\n 'PULocationID=95',\n 'PULocationID=96',\n 'PULocationID=97',\n 'PULocationID=98',\n 'trip_distance']"
     },
     "execution_count": 33,
     "metadata": {},
     "output_type": "execute_result"
    }
   ],
   "source": [
    "dv.feature_names_"
   ],
   "metadata": {
    "collapsed": false,
    "ExecuteTime": {
     "end_time": "2024-05-22T05:24:06.852291Z",
     "start_time": "2024-05-22T05:24:06.844987Z"
    }
   },
   "id": "9b7a0f0b8239810a",
   "execution_count": 33
  },
  {
   "cell_type": "code",
   "outputs": [
    {
     "data": {
      "text/plain": "<3009173x516 sparse matrix of type '<class 'numpy.float64'>'\n\twith 9027519 stored elements in Compressed Sparse Row format>"
     },
     "execution_count": 34,
     "metadata": {},
     "output_type": "execute_result"
    }
   ],
   "source": [
    "X_train"
   ],
   "metadata": {
    "collapsed": false,
    "ExecuteTime": {
     "end_time": "2024-05-22T05:24:09.304503Z",
     "start_time": "2024-05-22T05:24:09.300708Z"
    }
   },
   "id": "b99e8acd423acc17",
   "execution_count": 34
  },
  {
   "cell_type": "markdown",
   "source": [
    "# Q5. Training a model\n",
    "Now let's use the feature matrix from the previous step to train a model.\n",
    "\n",
    "Train a plain linear regression model with default parameters\n",
    "Calculate the RMSE of the model on the training data\n",
    "What's the RMSE on train?"
   ],
   "metadata": {
    "collapsed": false
   },
   "id": "b0fa5dfc67208d65"
  },
  {
   "cell_type": "code",
   "outputs": [],
   "source": [
    "target = 'duration'\n",
    "y_train = df[target].values"
   ],
   "metadata": {
    "collapsed": false,
    "ExecuteTime": {
     "end_time": "2024-05-22T05:24:23.478538Z",
     "start_time": "2024-05-22T05:24:23.476379Z"
    }
   },
   "id": "b7d662d1c8d06381",
   "execution_count": 35
  },
  {
   "cell_type": "code",
   "outputs": [
    {
     "data": {
      "text/plain": "array([ 8.43333333,  6.31666667, 12.75      , ..., 24.51666667,\n       13.        , 14.4       ])"
     },
     "execution_count": 36,
     "metadata": {},
     "output_type": "execute_result"
    }
   ],
   "source": [
    "y_train"
   ],
   "metadata": {
    "collapsed": false,
    "ExecuteTime": {
     "end_time": "2024-05-22T05:24:25.029272Z",
     "start_time": "2024-05-22T05:24:25.026327Z"
    }
   },
   "id": "4826911a83c4add6",
   "execution_count": 36
  },
  {
   "cell_type": "code",
   "outputs": [
    {
     "name": "stderr",
     "output_type": "stream",
     "text": [
      "/Users/roman_didyk/.pyenv/versions/3.11.7/lib/python3.11/site-packages/sklearn/metrics/_regression.py:492: FutureWarning: 'squared' is deprecated in version 1.4 and will be removed in 1.6. To calculate the root mean squared error, use the function'root_mean_squared_error'.\n",
      "  warnings.warn(\n"
     ]
    },
    {
     "data": {
      "text/plain": "7.658813384236691"
     },
     "execution_count": 37,
     "metadata": {},
     "output_type": "execute_result"
    }
   ],
   "source": [
    "lr = LinearRegression()\n",
    "lr.fit(X_train, y_train)\n",
    "\n",
    "y_pred = lr.predict(X_train)\n",
    "mean_squared_error(y_train, y_pred, squared=False)"
   ],
   "metadata": {
    "collapsed": false,
    "ExecuteTime": {
     "end_time": "2024-05-22T05:24:32.414122Z",
     "start_time": "2024-05-22T05:24:30.712984Z"
    }
   },
   "id": "89591f936330fdc0",
   "execution_count": 37
  },
  {
   "cell_type": "code",
   "outputs": [
    {
     "name": "stderr",
     "output_type": "stream",
     "text": [
      "/var/folders/cc/82yp0sf9235_s74_gp4brsy00000gn/T/ipykernel_20200/437147669.py:1: UserWarning: \n",
      "\n",
      "`distplot` is a deprecated function and will be removed in seaborn v0.14.0.\n",
      "\n",
      "Please adapt your code to use either `displot` (a figure-level function with\n",
      "similar flexibility) or `histplot` (an axes-level function for histograms).\n",
      "\n",
      "For a guide to updating your code to use the new functions, please see\n",
      "https://gist.github.com/mwaskom/de44147ed2974457ad6372750bbe5751\n",
      "\n",
      "  sns.distplot(y_pred, label='prediction')\n",
      "/var/folders/cc/82yp0sf9235_s74_gp4brsy00000gn/T/ipykernel_20200/437147669.py:2: UserWarning: \n",
      "\n",
      "`distplot` is a deprecated function and will be removed in seaborn v0.14.0.\n",
      "\n",
      "Please adapt your code to use either `displot` (a figure-level function with\n",
      "similar flexibility) or `histplot` (an axes-level function for histograms).\n",
      "\n",
      "For a guide to updating your code to use the new functions, please see\n",
      "https://gist.github.com/mwaskom/de44147ed2974457ad6372750bbe5751\n",
      "\n",
      "  sns.distplot(y_train, label='actual')\n"
     ]
    },
    {
     "data": {
      "text/plain": "<matplotlib.legend.Legend at 0x2a9974750>"
     },
     "execution_count": 38,
     "metadata": {},
     "output_type": "execute_result"
    },
    {
     "data": {
      "text/plain": "<Figure size 640x480 with 1 Axes>",
      "image/png": "[encoded data removed]"
     },
     "metadata": {},
     "output_type": "display_data"
    }
   ],
   "source": [
    "sns.distplot(y_pred, label='prediction')\n",
    "sns.distplot(y_train, label='actual')\n",
    "\n",
    "plt.legend()"
   ],
   "metadata": {
    "collapsed": false,
    "ExecuteTime": {
     "end_time": "2024-05-22T05:24:42.206672Z",
     "start_time": "2024-05-22T05:24:37.162479Z"
    }
   },
   "id": "ac8de44758391b20",
   "execution_count": 38
  },
  {
   "cell_type": "markdown",
   "source": [
    "# Q6. Evaluating the model\n",
    "Now let's apply this model to the validation dataset (February 2023).\n",
    "\n",
    "What's the RMSE on validation?"
   ],
   "metadata": {
    "collapsed": false
   },
   "id": "bf94c80580041b78"
  },
  {
   "cell_type": "code",
   "outputs": [
    {
     "name": "stderr",
     "output_type": "stream",
     "text": [
      "/var/folders/cc/82yp0sf9235_s74_gp4brsy00000gn/T/ipykernel_20200/3282693316.py:8: SettingWithCopyWarning: \n",
      "A value is trying to be set on a copy of a slice from a DataFrame.\n",
      "Try using .loc[row_indexer,col_indexer] = value instead\n",
      "\n",
      "See the caveats in the documentation: https://pandas.pydata.org/pandas-docs/stable/user_guide/indexing.html#returning-a-view-versus-a-copy\n",
      "  df[categorical] = df[categorical].astype(str)\n",
      "/Users/roman_didyk/.pyenv/versions/3.11.7/lib/python3.11/site-packages/sklearn/metrics/_regression.py:492: FutureWarning: 'squared' is deprecated in version 1.4 and will be removed in 1.6. To calculate the root mean squared error, use the function'root_mean_squared_error'.\n",
      "  warnings.warn(\n"
     ]
    },
    {
     "data": {
      "text/plain": "7.7876759376546065"
     },
     "execution_count": 40,
     "metadata": {},
     "output_type": "execute_result"
    }
   ],
   "source": [
    "df = df_yellow_tripdata_feb\n",
    "\n",
    "df['duration'] = df.tpep_dropoff_datetime - df.tpep_pickup_datetime\n",
    "df.duration = df.duration.apply(lambda x: x.total_seconds() / 60)\n",
    "df = df[(df.duration >= 1) & (df.duration <= 60)]\n",
    "    \n",
    "categorical = ['PULocationID', 'DOLocationID']\n",
    "df[categorical] = df[categorical].astype(str)\n",
    "    \n",
    "train_dicts = df[categorical + numerical].to_dict(orient='records')\n",
    "dv = DictVectorizer()\n",
    "X_train = dv.fit_transform(train_dicts)\n",
    "target = 'duration'\n",
    "y_train = df[target].values\n",
    "    \n",
    "lr = LinearRegression()\n",
    "lr.fit(X_train, y_train)\n",
    "y_pred = lr.predict(X_train)\n",
    "mean_squared_error(y_train, y_pred, squared=False)"
   ],
   "metadata": {
    "collapsed": false,
    "ExecuteTime": {
     "end_time": "2024-05-22T05:42:10.880880Z",
     "start_time": "2024-05-22T05:41:59.199169Z"
    }
   },
   "id": "4721defe5ddd9aaa",
   "execution_count": 40
  },
  {
   "cell_type": "code",
   "outputs": [
    {
     "name": "stderr",
     "output_type": "stream",
     "text": [
      "/var/folders/cc/82yp0sf9235_s74_gp4brsy00000gn/T/ipykernel_20200/4124956464.py:1: UserWarning: \n",
      "\n",
      "`distplot` is a deprecated function and will be removed in seaborn v0.14.0.\n",
      "\n",
      "Please adapt your code to use either `displot` (a figure-level function with\n",
      "similar flexibility) or `histplot` (an axes-level function for histograms).\n",
      "\n",
      "For a guide to updating your code to use the new functions, please see\n",
      "https://gist.github.com/mwaskom/de44147ed2974457ad6372750bbe5751\n",
      "\n",
      "  sns.distplot(y_pred, label='prediction')\n",
      "/var/folders/cc/82yp0sf9235_s74_gp4brsy00000gn/T/ipykernel_20200/4124956464.py:2: UserWarning: \n",
      "\n",
      "`distplot` is a deprecated function and will be removed in seaborn v0.14.0.\n",
      "\n",
      "Please adapt your code to use either `displot` (a figure-level function with\n",
      "similar flexibility) or `histplot` (an axes-level function for histograms).\n",
      "\n",
      "For a guide to updating your code to use the new functions, please see\n",
      "https://gist.github.com/mwaskom/de44147ed2974457ad6372750bbe5751\n",
      "\n",
      "  sns.distplot(y_train, label='actual')\n"
     ]
    },
    {
     "data": {
      "text/plain": "<matplotlib.legend.Legend at 0x2ea66f0d0>"
     },
     "execution_count": 41,
     "metadata": {},
     "output_type": "execute_result"
    },
    {
     "data": {
      "text/plain": "<Figure size 640x480 with 1 Axes>",
      "image/png": "[encoded data removed]"
     },
     "metadata": {},
     "output_type": "display_data"
    }
   ],
   "source": [
    "sns.distplot(y_pred, label='prediction')\n",
    "sns.distplot(y_train, label='actual')\n",
    "plt.legend()"
   ],
   "metadata": {
    "collapsed": false,
    "ExecuteTime": {
     "end_time": "2024-05-22T05:42:39.296396Z",
     "start_time": "2024-05-22T05:42:34.461341Z"
    }
   },
   "id": "2bc6e781dffaf9bf",
   "execution_count": 41
  },
  {
   "cell_type": "code",
   "outputs": [],
   "source": [],
   "metadata": {
    "collapsed": false
   },
   "id": "96489e4b9c841239"
  }
 ],
 "metadata": {
  "kernelspec": {
   "display_name": "Python 3 (ipykernel)",
   "language": "python",
   "name": "python3"
  },
  "language_info": {
   "codemirror_mode": {
    "name": "ipython",
    "version": 3
   },
   "file_extension": ".py",
   "mimetype": "text/x-python",
   "name": "python",
   "nbconvert_exporter": "python",
   "pygments_lexer": "ipython3",
   "version": "3.9.12"
  }
 },
 "nbformat": 4,
 "nbformat_minor": 5
}
